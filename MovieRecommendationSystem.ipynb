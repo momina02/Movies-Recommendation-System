{
 "cells": [
  {
   "cell_type": "code",
   "execution_count": 91,
   "id": "745e27f6-4a67-411b-b706-33304ce9a23d",
   "metadata": {
    "editable": true,
    "slideshow": {
     "slide_type": ""
    },
    "tags": []
   },
   "outputs": [],
   "source": [
    "# Import all the required libraries\n",
    "import numpy as np\n",
    "import pandas as pd\n",
    "from IPython.display import display\n",
    "import ast\n",
    "import pickle\n",
    "from sklearn.feature_extraction.text import CountVectorizer\n",
    "from snowballstemmer import EnglishStemmer\n",
    "from sklearn.metrics.pairwise import cosine_similarity"
   ]
  },
  {
   "cell_type": "code",
   "execution_count": 58,
   "id": "16817f2e-8021-4a74-8e10-94fb4b763a0b",
   "metadata": {},
   "outputs": [],
   "source": [
    "# Reading the csv file that contain all the credits\n",
    "credit = pd.read_csv('tmdb_credits.csv')"
   ]
  },
  {
   "cell_type": "code",
   "execution_count": 59,
   "id": "0f5d70d0-5909-4bdc-a364-e579bb0dce6d",
   "metadata": {},
   "outputs": [],
   "source": [
    "# Reading the csv file that contain all the movies\n",
    "movie = pd.read_csv('tmdb_movies.csv')"
   ]
  },
  {
   "cell_type": "code",
   "execution_count": 61,
   "id": "08309c2d-76e0-444d-98e6-1f442dce7a96",
   "metadata": {},
   "outputs": [],
   "source": [
    "# Merge both dataframes on title column\n",
    "movies = movie.merge(credit, on='title')"
   ]
  },
  {
   "cell_type": "code",
   "execution_count": 62,
   "id": "5f3ed5fa-c2ef-462a-9548-621dd6389bbc",
   "metadata": {},
   "outputs": [],
   "source": [
    "### These are the columns that are useful for us\n",
    "# genres\n",
    "# id\n",
    "# keywords\n",
    "# title\n",
    "# overview\n",
    "# cast\n",
    "# crew"
   ]
  },
  {
   "cell_type": "code",
   "execution_count": 63,
   "id": "0b73b5c7-68dc-4ab0-9e2d-393dcccfd3b6",
   "metadata": {},
   "outputs": [],
   "source": [
    "# Just for checking which language is dominating in languages\n",
    "# movies['original_language'].value_counts()"
   ]
  },
  {
   "cell_type": "code",
   "execution_count": 64,
   "id": "e4b15ad2-2c71-4c7c-8661-854688874455",
   "metadata": {},
   "outputs": [],
   "source": [
    "# Making our final dataframe\n",
    "movies = movies[['movie_id', 'title', 'overview', 'genres', 'keywords', 'cast', 'crew']]"
   ]
  },
  {
   "cell_type": "code",
   "execution_count": 65,
   "id": "4c4f46d3-9ab8-482f-b4b5-4c5ac91ab9aa",
   "metadata": {},
   "outputs": [
    {
     "data": {
      "text/plain": [
       "movie_id    0\n",
       "title       0\n",
       "overview    0\n",
       "genres      0\n",
       "keywords    0\n",
       "cast        0\n",
       "crew        0\n",
       "dtype: int64"
      ]
     },
     "execution_count": 65,
     "metadata": {},
     "output_type": "execute_result"
    }
   ],
   "source": [
    "# For checking and removing duplicates and null values\n",
    "movies.duplicated().sum()\n",
    "movies.isna().sum()\n",
    "movies = movies.dropna()\n",
    "movies.isna().sum()"
   ]
  },
  {
   "cell_type": "code",
   "execution_count": 69,
   "id": "910be3f9-4ec0-45d5-8e93-6d8eba4c8d2f",
   "metadata": {},
   "outputs": [],
   "source": [
    "# The function’s goal is to extract only the name field from each dictionary within the list and \n",
    "# return these names as a simple list of strings\n",
    "def convert_genres_and_keywords(obj):\n",
    "    lst = []\n",
    "    for i in ast.literal_eval(obj):\n",
    "        lst.append(i['name'])\n",
    "    return lst"
   ]
  },
  {
   "cell_type": "code",
   "execution_count": 67,
   "id": "889ae15f-ae7a-4f8e-abff-d51e183b6868",
   "metadata": {},
   "outputs": [],
   "source": [
    "# Applying convert_genres_and_keywords function \n",
    "movies['genres'] = movies['genres'].apply(convert_genres_and_keywords)"
   ]
  },
  {
   "cell_type": "code",
   "execution_count": 68,
   "id": "51184208-c819-43b9-b838-fdf69d19e33d",
   "metadata": {},
   "outputs": [],
   "source": [
    "# Applying convert_genres_and_keywords function \n",
    "movies['keywords'] = movies['keywords'].apply(convert_genres_and_keywords)"
   ]
  },
  {
   "cell_type": "code",
   "execution_count": 72,
   "id": "850b5a1f-8627-4fc8-83e2-3886a6a04a0d",
   "metadata": {},
   "outputs": [],
   "source": [
    "# The function’s goal is to extract only the name field from each dictionary within the list and \n",
    "# return these names as a simple list of strings (only first 3)\n",
    "def convert_cast(obj):\n",
    "    lst = []\n",
    "    for i in ast.literal_eval(obj)[0:3]:\n",
    "        lst.append(i['name'])\n",
    "    return lst    "
   ]
  },
  {
   "cell_type": "code",
   "execution_count": 71,
   "id": "9403c57f-0212-493c-b37b-f2b651926acf",
   "metadata": {},
   "outputs": [],
   "source": [
    "# Applying convert_cast function \n",
    "movies['cast'] = movies['cast'].apply(convert_cast)"
   ]
  },
  {
   "cell_type": "code",
   "execution_count": 73,
   "id": "ceeab89d-1837-4c75-930b-a0c0495ec459",
   "metadata": {},
   "outputs": [],
   "source": [
    "# The function’s goal is to extract only the name field from each dictionary within the list and \n",
    "# return these names as a simple list of strings (where job is director)\n",
    "def convert_crew(obj):\n",
    "    lst = []\n",
    "    for i in ast.literal_eval(obj):\n",
    "        if i['job'] == 'Director':\n",
    "            lst.append(i['name'])\n",
    "    return lst        "
   ]
  },
  {
   "cell_type": "code",
   "execution_count": 26,
   "id": "7c784d8b-e1be-4408-bf28-d8f1d54aa1d9",
   "metadata": {},
   "outputs": [],
   "source": [
    "movies['crew'] = movies['crew'].apply(convert_crew)"
   ]
  },
  {
   "cell_type": "code",
   "execution_count": 74,
   "id": "7dfe3b62-0494-4a73-a7d1-175593ef1b95",
   "metadata": {},
   "outputs": [],
   "source": [
    "# For making a list of overview\n",
    "movies['overview'] = movies['overview'].apply(lambda x : x.split())"
   ]
  },
  {
   "cell_type": "code",
   "execution_count": 75,
   "id": "0abb8d3e-ae29-4200-b384-8e6ccc879d57",
   "metadata": {},
   "outputs": [],
   "source": [
    "# To remove spaces from these columns\n",
    "movies['genres'] = movies['genres'].apply(lambda x : [i.replace(' ', '') for i in x])\n",
    "movies['keywords'] = movies['keywords'].apply(lambda x : [i.replace(' ', '') for i in x])\n",
    "movies['cast'] = movies['cast'].apply(lambda x : [i.replace(' ', '') for i in x])\n",
    "movies['crew'] = movies['crew'].apply(lambda x : [i.replace(' ', '') for i in x])"
   ]
  },
  {
   "cell_type": "code",
   "execution_count": 76,
   "id": "ddc5323b-df52-4408-a194-c784682495f6",
   "metadata": {},
   "outputs": [],
   "source": [
    "# Making our main column of tag\n",
    "movies['tags'] = movies['overview'] + movies['genres'] + movies['keywords'] + movies['cast'] + movies['crew']"
   ]
  },
  {
   "cell_type": "code",
   "execution_count": 77,
   "id": "df72343d-7698-4acb-a0c4-cde411c3cca7",
   "metadata": {},
   "outputs": [],
   "source": [
    "# Creating a new dataframe that contain these three columns : 'movie_id', 'title', 'tags'\n",
    "new_df = movies[['movie_id', 'title', 'tags']]"
   ]
  },
  {
   "cell_type": "code",
   "execution_count": 78,
   "id": "8799c5e6-5fe5-42ca-80b8-02de78ef9b85",
   "metadata": {},
   "outputs": [
    {
     "name": "stderr",
     "output_type": "stream",
     "text": [
      "C:\\Users\\Momina\\AppData\\Local\\Temp\\ipykernel_2260\\1058133169.py:3: SettingWithCopyWarning: \n",
      "A value is trying to be set on a copy of a slice from a DataFrame.\n",
      "Try using .loc[row_indexer,col_indexer] = value instead\n",
      "\n",
      "See the caveats in the documentation: https://pandas.pydata.org/pandas-docs/stable/user_guide/indexing.html#returning-a-view-versus-a-copy\n",
      "  new_df['tags'] = new_df['tags'].apply(lambda x: ' '.join(x))\n"
     ]
    }
   ],
   "source": [
    "# For converting each list of tags in the tags column into a single string,\n",
    "# where tags are separated by spaces\n",
    "new_df['tags'] = new_df['tags'].apply(lambda x: ' '.join(x))"
   ]
  },
  {
   "cell_type": "code",
   "execution_count": 79,
   "id": "a10e0349-a1d0-4d66-b28f-3f4a5594c22e",
   "metadata": {},
   "outputs": [
    {
     "name": "stderr",
     "output_type": "stream",
     "text": [
      "C:\\Users\\Momina\\AppData\\Local\\Temp\\ipykernel_2260\\1092137028.py:2: SettingWithCopyWarning: \n",
      "A value is trying to be set on a copy of a slice from a DataFrame.\n",
      "Try using .loc[row_indexer,col_indexer] = value instead\n",
      "\n",
      "See the caveats in the documentation: https://pandas.pydata.org/pandas-docs/stable/user_guide/indexing.html#returning-a-view-versus-a-copy\n",
      "  new_df['tags'] = new_df['tags'].apply(lambda x: x.lower())\n"
     ]
    }
   ],
   "source": [
    "# Converting it to lower case\n",
    "new_df['tags'] = new_df['tags'].apply(lambda x: x.lower())"
   ]
  },
  {
   "cell_type": "code",
   "execution_count": 80,
   "id": "b08d9b4c-07e2-40dd-aaa9-f9b87b07f5d9",
   "metadata": {},
   "outputs": [],
   "source": [
    "# For removing english stop words\n",
    "cv = CountVectorizer(max_features = 5000, stop_words = 'english')"
   ]
  },
  {
   "cell_type": "code",
   "execution_count": 84,
   "id": "3ff8b04f-f392-4284-aa3e-d1b3817cec16",
   "metadata": {},
   "outputs": [
    {
     "name": "stderr",
     "output_type": "stream",
     "text": [
      "C:\\Users\\Momina\\AppData\\Local\\Temp\\ipykernel_2260\\2895118813.py:13: SettingWithCopyWarning: \n",
      "A value is trying to be set on a copy of a slice from a DataFrame.\n",
      "Try using .loc[row_indexer,col_indexer] = value instead\n",
      "\n",
      "See the caveats in the documentation: https://pandas.pydata.org/pandas-docs/stable/user_guide/indexing.html#returning-a-view-versus-a-copy\n",
      "  new_df['tags'] = new_df['tags'].apply(stem)\n"
     ]
    }
   ],
   "source": [
    "# import nltk\n",
    "# from nltk.stem.porter import PorterStemmer\n",
    "# ps = PorterStemmer()\n",
    "\n",
    "# We can also use the method above\n",
    "\n",
    "# In easy words it just reduce the length of words\n",
    "\n",
    "stemmer = EnglishStemmer()\n",
    "def stem(text):\n",
    "    y = [stemmer.stemWord(word) for word in text.split()]\n",
    "    return ' '.join(y)   \n",
    "new_df['tags'] = new_df['tags'].apply(stem)"
   ]
  },
  {
   "cell_type": "code",
   "execution_count": 85,
   "id": "5650ff5c-761f-485f-a090-7118137be3eb",
   "metadata": {},
   "outputs": [],
   "source": [
    "# This line converts the text data in new_df['tags'] into a numerical matrix where each row \n",
    "# represents a document and each column represents the count of a specific word from the \n",
    "# vocabulary.\n",
    "vectors = cv.fit_transform(new_df['tags']).toarray()"
   ]
  },
  {
   "cell_type": "code",
   "execution_count": 87,
   "id": "a07c6ddc-3595-41de-8842-e3c08a850711",
   "metadata": {},
   "outputs": [
    {
     "data": {
      "text/plain": [
       "array(['000', '007', '10', ..., 'zone', 'zoo', 'zooeydeschanel'],\n",
       "      dtype=object)"
      ]
     },
     "execution_count": 87,
     "metadata": {},
     "output_type": "execute_result"
    }
   ],
   "source": [
    "# It gives you the list of vocabulary words that were used to create the word count vectors\n",
    "cv.get_feature_names_out()"
   ]
  },
  {
   "cell_type": "code",
   "execution_count": 88,
   "id": "68e3c50c-6007-42be-93f7-4e1515e9656d",
   "metadata": {},
   "outputs": [],
   "source": [
    "# Calculates similarity in each document/(row) to every other row based on the word count vectors.\n",
    "similarity = cosine_similarity(vectors)"
   ]
  },
  {
   "cell_type": "code",
   "execution_count": 89,
   "id": "6abbc643-a264-49b6-a62c-4725473c4353",
   "metadata": {},
   "outputs": [],
   "source": [
    "# It is recommending the most similar 5 movies \n",
    "def recommend(movie):\n",
    "    movie_index = new_df[new_df['title'] == movie].index[0]\n",
    "    distances = similarity[movie_index]\n",
    "    movies_list = sorted(list(enumerate(distances)), reverse = True, key = lambda x:x[1])[1:6]\n",
    "    for i in movies_list:\n",
    "        print(new_df.iloc[i[0]].title)"
   ]
  },
  {
   "cell_type": "code",
   "execution_count": 90,
   "id": "36c5c150-374f-4366-9177-f2569ce3d20c",
   "metadata": {},
   "outputs": [
    {
     "name": "stdout",
     "output_type": "stream",
     "text": [
      "Batman\n",
      "Batman & Robin\n",
      "The Dark Knight Rises\n",
      "Batman Begins\n",
      "Batman Returns\n"
     ]
    }
   ],
   "source": [
    "# For checking\n",
    "recommend('Batman')"
   ]
  },
  {
   "cell_type": "code",
   "execution_count": 92,
   "id": "65a34fab-1c33-48e9-a8ba-f96ed8db198a",
   "metadata": {},
   "outputs": [],
   "source": [
    "# Creating a file for saving and deploying\n",
    "pickle.dump(new_df.to_dict(),open('movie_dict.pkl','wb'))"
   ]
  },
  {
   "cell_type": "code",
   "execution_count": 93,
   "id": "0e46fb01-7b6b-4d94-8ba8-7852a35d29eb",
   "metadata": {},
   "outputs": [],
   "source": [
    "# Creating a file for saving and deploying\n",
    "pickle.dump(similarity,open('similarity.pkl','wb'))"
   ]
  }
 ],
 "metadata": {
  "kernelspec": {
   "display_name": "Python 3 (ipykernel)",
   "language": "python",
   "name": "python3"
  },
  "language_info": {
   "codemirror_mode": {
    "name": "ipython",
    "version": 3
   },
   "file_extension": ".py",
   "mimetype": "text/x-python",
   "name": "python",
   "nbconvert_exporter": "python",
   "pygments_lexer": "ipython3",
   "version": "3.12.7"
  }
 },
 "nbformat": 4,
 "nbformat_minor": 5
}
